{
 "cells": [
  {
   "cell_type": "code",
   "execution_count": 2,
   "metadata": {
    "collapsed": true
   },
   "outputs": [],
   "source": [
    "import pandas as pd\n",
    "import numpy as ny"
   ]
  },
  {
   "cell_type": "code",
   "execution_count": 3,
   "metadata": {
    "collapsed": true
   },
   "outputs": [],
   "source": [
    "df=pd.read_csv('/Users/lilexin/Desktop/ECON628-lessdaa/project2/adoNY_c_f.csv')"
   ]
  },
  {
   "cell_type": "code",
   "execution_count": 4,
   "metadata": {
    "collapsed": false
   },
   "outputs": [
    {
     "data": {
      "text/html": [
       "<div>\n",
       "<table border=\"1\" class=\"dataframe\">\n",
       "  <thead>\n",
       "    <tr style=\"text-align: right;\">\n",
       "      <th></th>\n",
       "      <th>RECNUM</th>\n",
       "      <th>SEX</th>\n",
       "      <th>AGYSPNDS</th>\n",
       "      <th>AgeAtAdopt</th>\n",
       "      <th>ChildRace</th>\n",
       "      <th>BioMomAgeAtBirth</th>\n",
       "      <th>MOMARRD</th>\n",
       "      <th>AdoptMomAge</th>\n",
       "      <th>AdoptDadAge</th>\n",
       "      <th>ADPFAMST</th>\n",
       "      <th>MomRace</th>\n",
       "      <th>DadRace</th>\n",
       "      <th>Transracial</th>\n",
       "    </tr>\n",
       "  </thead>\n",
       "  <tbody>\n",
       "    <tr>\n",
       "      <th>0</th>\n",
       "      <td>10115515140</td>\n",
       "      <td>2</td>\n",
       "      <td>2</td>\n",
       "      <td>0</td>\n",
       "      <td>1</td>\n",
       "      <td>20.0</td>\n",
       "      <td>1.0</td>\n",
       "      <td>33.0</td>\n",
       "      <td>33.0</td>\n",
       "      <td>1.0</td>\n",
       "      <td>1</td>\n",
       "      <td>1</td>\n",
       "      <td>0</td>\n",
       "    </tr>\n",
       "    <tr>\n",
       "      <th>1</th>\n",
       "      <td>10185923110</td>\n",
       "      <td>1</td>\n",
       "      <td>2</td>\n",
       "      <td>1</td>\n",
       "      <td>2</td>\n",
       "      <td>29.0</td>\n",
       "      <td>2.0</td>\n",
       "      <td>45.0</td>\n",
       "      <td>54.0</td>\n",
       "      <td>1.0</td>\n",
       "      <td>1</td>\n",
       "      <td>1</td>\n",
       "      <td>1</td>\n",
       "    </tr>\n",
       "    <tr>\n",
       "      <th>2</th>\n",
       "      <td>10199738080</td>\n",
       "      <td>2</td>\n",
       "      <td>2</td>\n",
       "      <td>0</td>\n",
       "      <td>1</td>\n",
       "      <td>24.0</td>\n",
       "      <td>2.0</td>\n",
       "      <td>36.0</td>\n",
       "      <td>45.0</td>\n",
       "      <td>1.0</td>\n",
       "      <td>1</td>\n",
       "      <td>1</td>\n",
       "      <td>0</td>\n",
       "    </tr>\n",
       "    <tr>\n",
       "      <th>3</th>\n",
       "      <td>10206906020</td>\n",
       "      <td>2</td>\n",
       "      <td>2</td>\n",
       "      <td>0</td>\n",
       "      <td>99</td>\n",
       "      <td>28.0</td>\n",
       "      <td>2.0</td>\n",
       "      <td>41.0</td>\n",
       "      <td>44.0</td>\n",
       "      <td>1.0</td>\n",
       "      <td>1</td>\n",
       "      <td>1</td>\n",
       "      <td>9</td>\n",
       "    </tr>\n",
       "    <tr>\n",
       "      <th>4</th>\n",
       "      <td>10286352150</td>\n",
       "      <td>1</td>\n",
       "      <td>2</td>\n",
       "      <td>1</td>\n",
       "      <td>99</td>\n",
       "      <td>36.0</td>\n",
       "      <td>2.0</td>\n",
       "      <td>32.0</td>\n",
       "      <td>32.0</td>\n",
       "      <td>1.0</td>\n",
       "      <td>1</td>\n",
       "      <td>1</td>\n",
       "      <td>9</td>\n",
       "    </tr>\n",
       "  </tbody>\n",
       "</table>\n",
       "</div>"
      ],
      "text/plain": [
       "        RECNUM  SEX  AGYSPNDS  AgeAtAdopt  ChildRace  BioMomAgeAtBirth  \\\n",
       "0  10115515140    2         2           0          1              20.0   \n",
       "1  10185923110    1         2           1          2              29.0   \n",
       "2  10199738080    2         2           0          1              24.0   \n",
       "3  10206906020    2         2           0         99              28.0   \n",
       "4  10286352150    1         2           1         99              36.0   \n",
       "\n",
       "   MOMARRD  AdoptMomAge  AdoptDadAge  ADPFAMST  MomRace  DadRace  Transracial  \n",
       "0      1.0         33.0         33.0       1.0        1        1            0  \n",
       "1      2.0         45.0         54.0       1.0        1        1            1  \n",
       "2      2.0         36.0         45.0       1.0        1        1            0  \n",
       "3      2.0         41.0         44.0       1.0        1        1            9  \n",
       "4      2.0         32.0         32.0       1.0        1        1            9  "
      ]
     },
     "execution_count": 4,
     "metadata": {},
     "output_type": "execute_result"
    }
   ],
   "source": [
    "df.head(5)"
   ]
  },
  {
   "cell_type": "markdown",
   "metadata": {},
   "source": [
    "1. RECNUM: record number\n",
    "2. SEX: child sex 1-male 2-female\n",
    "3. AGYSPNDS: child special needs, 0-not applicable, 1-yes, 2-no, 3-unable to determin\n",
    "4. AgeAtAdopt: child’s age on date of adoption\n",
    "5. ChildRace: race of child as one variable, 1-White, 2-Black, 3-AmInd, 4-Asian, 5-HawaiiPI, 6-More than One Race, 7-Hispanic Origin\n",
    "6. BioMomAgeAtBirth: biological mother’s age on date of child’s birth\n",
    "7. MOMARRD: biological mother married, 0-not applicable, 1-yes, 2-no, 3-unable to determine\n",
    "8. AdoptMomAge: adoptive mother’s age on date of adoption\n",
    "9. AdoptDadAge: adoptive father’s age on date of adoption\n",
    "10. ADPFAMST: adoptive family structure, 0-not applicable, 1-married couple, 2-unmarried couple, 3-single female, 4-single male, 5-unable to determine\n",
    "11. MomRace: race of adoptive mother as one variable, 1-White, 2-Black, 3-AmInd, 4-Asian, 5-HawaiiPI, 6-More than One Race, 7-Hispanic Origin\n",
    "12. DadRace: race of adoptive father as one variable, 1-White, 2-Black, 3-AmInd, 4-Asian, 5-HawaiiPI, 6-More than One Race, 7-Hispanic Origin\n",
    "13. Transracial: transracial adoption, 0-not transracial, 1-child not White + parent White, 2-child White + parent not White, 3-other transracial, 9-insufficient race info"
   ]
  },
  {
   "cell_type": "code",
   "execution_count": 5,
   "metadata": {
    "collapsed": false
   },
   "outputs": [
    {
     "name": "stdout",
     "output_type": "stream",
     "text": [
      "<class 'pandas.core.frame.DataFrame'>\n",
      "RangeIndex: 1933 entries, 0 to 1932\n",
      "Data columns (total 13 columns):\n",
      "RECNUM              1933 non-null int64\n",
      "SEX                 1933 non-null int64\n",
      "AGYSPNDS            1933 non-null int64\n",
      "AgeAtAdopt          1933 non-null int64\n",
      "ChildRace           1933 non-null int64\n",
      "BioMomAgeAtBirth    1903 non-null float64\n",
      "MOMARRD             1890 non-null float64\n",
      "AdoptMomAge         1890 non-null float64\n",
      "AdoptDadAge         946 non-null float64\n",
      "ADPFAMST            1890 non-null float64\n",
      "MomRace             1933 non-null int64\n",
      "DadRace             1933 non-null int64\n",
      "Transracial         1933 non-null int64\n",
      "dtypes: float64(5), int64(8)\n",
      "memory usage: 196.4 KB\n"
     ]
    }
   ],
   "source": [
    "df.info()"
   ]
  },
  {
   "cell_type": "code",
   "execution_count": 10,
   "metadata": {
    "collapsed": false
   },
   "outputs": [
    {
     "data": {
      "text/plain": [
       "0       False\n",
       "1       False\n",
       "2       False\n",
       "3       False\n",
       "4       False\n",
       "5       False\n",
       "6       False\n",
       "7       False\n",
       "8       False\n",
       "9       False\n",
       "10      False\n",
       "11      False\n",
       "12      False\n",
       "13      False\n",
       "14      False\n",
       "15      False\n",
       "16      False\n",
       "17      False\n",
       "18      False\n",
       "19      False\n",
       "20      False\n",
       "21      False\n",
       "22      False\n",
       "23      False\n",
       "24      False\n",
       "25      False\n",
       "26      False\n",
       "27      False\n",
       "28      False\n",
       "29      False\n",
       "        ...  \n",
       "1903    False\n",
       "1904    False\n",
       "1905    False\n",
       "1906    False\n",
       "1907    False\n",
       "1908    False\n",
       "1909    False\n",
       "1910    False\n",
       "1911    False\n",
       "1912    False\n",
       "1913    False\n",
       "1914     True\n",
       "1915    False\n",
       "1916    False\n",
       "1917    False\n",
       "1918    False\n",
       "1919    False\n",
       "1920    False\n",
       "1921    False\n",
       "1922    False\n",
       "1923    False\n",
       "1924    False\n",
       "1925    False\n",
       "1926    False\n",
       "1927    False\n",
       "1928    False\n",
       "1929    False\n",
       "1930    False\n",
       "1931    False\n",
       "1932    False\n",
       "Name: BioMomAgeAtBirth, dtype: bool"
      ]
     },
     "execution_count": 10,
     "metadata": {},
     "output_type": "execute_result"
    }
   ],
   "source": [
    "df[\"BioMomAgeAtBirth\"].isnull()"
   ]
  },
  {
   "cell_type": "code",
   "execution_count": 11,
   "metadata": {
    "collapsed": true
   },
   "outputs": [],
   "source": [
    "Mom_Age_mean=df['BioMomAgeAtBirth'].mean()"
   ]
  },
  {
   "cell_type": "code",
   "execution_count": 24,
   "metadata": {
    "collapsed": false
   },
   "outputs": [],
   "source": [
    "df_Lost=df[df['BioMomAgeAtBirth'].isnull().values == True]\n",
    "    "
   ]
  },
  {
   "cell_type": "code",
   "execution_count": 25,
   "metadata": {
    "collapsed": false
   },
   "outputs": [],
   "source": [
    "for index, row in df_Lost.iterrows():\n",
    "        i = df.loc[df['BioMomAgeAtBirth'].isnull().values==True]\n",
    "        if i.size == 1:\n",
    "                df.set_value(Mom_Age_mean, i.irow(0))"
   ]
  },
  {
   "cell_type": "code",
   "execution_count": 36,
   "metadata": {
    "collapsed": false
   },
   "outputs": [
    {
     "data": {
      "text/plain": [
       "0                                    20\n",
       "1                                    29\n",
       "2                                    24\n",
       "3                                    28\n",
       "4                                    36\n",
       "5                                    23\n",
       "6                                    23\n",
       "7                                    24\n",
       "8                                    22\n",
       "9                                    28\n",
       "10                                   24\n",
       "11                                   15\n",
       "12                                   32\n",
       "13                                   23\n",
       "14                                   24\n",
       "15                                   23\n",
       "16                                   23\n",
       "17                                   26\n",
       "18                                   31\n",
       "19                                   22\n",
       "20                                   29\n",
       "21                                   26\n",
       "22                                   42\n",
       "23                                   26\n",
       "24                                   30\n",
       "25                                   20\n",
       "26                                   36\n",
       "27                                   20\n",
       "28                                   23\n",
       "29                                   26\n",
       "                     ...               \n",
       "1903                                 20\n",
       "1904                                 28\n",
       "1905                                 27\n",
       "1906                                 25\n",
       "1907                                 26\n",
       "1908                                 42\n",
       "1909                                 23\n",
       "1910                                 22\n",
       "1911                                 21\n",
       "1912                                 23\n",
       "1913                                 25\n",
       "1914    <type 'exceptions.MemoryError'>\n",
       "1915                                 31\n",
       "1916                                 18\n",
       "1917                                 23\n",
       "1918                                 17\n",
       "1919                                 18\n",
       "1920                                 23\n",
       "1921                                 19\n",
       "1922                                 21\n",
       "1923                                 16\n",
       "1924                                 20\n",
       "1925                                 19\n",
       "1926                                 26\n",
       "1927                                 21\n",
       "1928                                 39\n",
       "1929                                 40\n",
       "1930                                 39\n",
       "1931                                 37\n",
       "1932                                 38\n",
       "Name: BioMomAgeAtBirth, dtype: object"
      ]
     },
     "execution_count": 36,
     "metadata": {},
     "output_type": "execute_result"
    }
   ],
   "source": [
    "df['BioMomAgeAtBirth'].fillna(value=Mom_Age_mean)"
   ]
  },
  {
   "cell_type": "code",
   "execution_count": 37,
   "metadata": {
    "collapsed": false
   },
   "outputs": [
    {
     "data": {
      "text/html": [
       "<div>\n",
       "<table border=\"1\" class=\"dataframe\">\n",
       "  <thead>\n",
       "    <tr style=\"text-align: right;\">\n",
       "      <th></th>\n",
       "      <th>RECNUM</th>\n",
       "      <th>SEX</th>\n",
       "      <th>AGYSPNDS</th>\n",
       "      <th>AgeAtAdopt</th>\n",
       "      <th>ChildRace</th>\n",
       "      <th>BioMomAgeAtBirth</th>\n",
       "      <th>MOMARRD</th>\n",
       "      <th>AdoptMomAge</th>\n",
       "      <th>AdoptDadAge</th>\n",
       "      <th>ADPFAMST</th>\n",
       "      <th>MomRace</th>\n",
       "      <th>DadRace</th>\n",
       "      <th>Transracial</th>\n",
       "    </tr>\n",
       "  </thead>\n",
       "  <tbody>\n",
       "  </tbody>\n",
       "</table>\n",
       "</div>"
      ],
      "text/plain": [
       "Empty DataFrame\n",
       "Columns: [RECNUM, SEX, AGYSPNDS, AgeAtAdopt, ChildRace, BioMomAgeAtBirth, MOMARRD, AdoptMomAge, AdoptDadAge, ADPFAMST, MomRace, DadRace, Transracial]\n",
       "Index: []"
      ]
     },
     "execution_count": 37,
     "metadata": {},
     "output_type": "execute_result"
    }
   ],
   "source": [
    "df[df['BioMomAgeAtBirth'].isnull().values==True]"
   ]
  },
  {
   "cell_type": "code",
   "execution_count": null,
   "metadata": {
    "collapsed": false
   },
   "outputs": [],
   "source": []
  },
  {
   "cell_type": "code",
   "execution_count": null,
   "metadata": {
    "collapsed": true
   },
   "outputs": [],
   "source": []
  }
 ],
 "metadata": {
  "anaconda-cloud": {},
  "kernelspec": {
   "display_name": "Python [conda env:econ]",
   "language": "python",
   "name": "conda-env-econ-py"
  },
  "language_info": {
   "codemirror_mode": {
    "name": "ipython",
    "version": 2
   },
   "file_extension": ".py",
   "mimetype": "text/x-python",
   "name": "python",
   "nbconvert_exporter": "python",
   "pygments_lexer": "ipython2",
   "version": "2.7.12"
  }
 },
 "nbformat": 4,
 "nbformat_minor": 1
}
